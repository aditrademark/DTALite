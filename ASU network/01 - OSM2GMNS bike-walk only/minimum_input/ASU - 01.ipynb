{
 "cells": [
  {
   "cell_type": "markdown",
   "id": "214e636f",
   "metadata": {},
   "source": [
    "Case 1: OSM2GMNS bike-walk only\n",
    "\n",
    "This notebook will show the process of generating a network from scratch using OSM2GMNS, generate the demand using GRID2DEMAND, and display some of the results from DTALite. Please note that the OSM file used here was downloaded using the OpenStreetMap website.\n",
    "\n",
    "This process can be replicated by downloading this notebook along with the minimum input folder."
   ]
  },
  {
   "cell_type": "code",
   "execution_count": 1,
   "id": "b7857fb5",
   "metadata": {},
   "outputs": [
    {
     "name": "stdout",
     "output_type": "stream",
     "text": [
      "osm2gmns, 0.7.3\n",
      "grid2demand, version 0.3.8\n"
     ]
    }
   ],
   "source": [
    "from __future__ import absolute_import\n",
    "import osm2gmns as og\n",
    "import subprocess\n",
    "from grid2demand import GRID2DEMAND\n",
    "import pandas as pd"
   ]
  },
  {
   "cell_type": "markdown",
   "id": "fe61b8a0",
   "metadata": {},
   "source": [
    "This step assigns the instructions about various parameters such as OSM file name, mode types, POI (point of interest, which is necessary to generate the demand), etc., to a variable"
   ]
  },
  {
   "cell_type": "code",
   "execution_count": 2,
   "id": "247874e5",
   "metadata": {},
   "outputs": [
    {
     "name": "stdout",
     "output_type": "stream",
     "text": [
      "arguments used for network parsing:\n",
      "  filename: asu.osm\n",
      "  network_types: ('bike', 'walk')\n",
      "  link_types: all\n",
      "  POI: True\n",
      "  POI_sampling_ratio: 1\n",
      "  strict_mode: True\n",
      "  offset: no\n",
      "  min_nodes: 10\n",
      "  combine: False\n",
      "  bbox: None\n",
      "  default_lanes: True\n",
      "  default_speed: True\n",
      "  default_capacity: True\n",
      "  start_node_id: 0\n",
      "  start_link_id: 0\n",
      "\n",
      "Building Network from OSM file\n",
      "  reading osm file\n",
      "WARNING: ref way '543997788' in relation 3444656 is not defined, relation 3444656 will not be imported\n",
      "WARNING: ref way '1083336575' in relation 14415844 is not defined, relation 14415844 will not be imported\n",
      "  parsing osm network\n",
      "    generating nodes and links\n",
      "    generating POIs\n",
      "    removing sub networks with less than 10 nodes\n",
      "  number of nodes: 2626, number of links: 4806, number of pois: 629\n"
     ]
    }
   ],
   "source": [
    "net = og.getNetFromFile('asu.osm', \n",
    "                        network_types=('bike','walk'), \n",
    "                        POI=True,\n",
    "                        POI_sampling_ratio=1,\n",
    "                        strict_mode=True, \n",
    "                        min_nodes=10,\n",
    "                        default_lanes=True, \n",
    "                        default_speed=True, \n",
    "                        default_capacity=True, \n",
    "                        start_node_id=0, \n",
    "                        start_link_id=0)"
   ]
  },
  {
   "cell_type": "markdown",
   "id": "e282f6a6",
   "metadata": {},
   "source": [
    "This step defines the default lanes, speed and capacity for links that do not contain such information"
   ]
  },
  {
   "cell_type": "code",
   "execution_count": 3,
   "id": "922bb855",
   "metadata": {},
   "outputs": [],
   "source": [
    "default_lanes_dict = {'motorway': 4, 'trunk': 3, 'primary': 3, 'secondary': 2, 'tertiary': 2,\n",
    "                      'residential': 1, 'service': 1, 'cycleway':1, 'footway':1, 'track':1,\n",
    "                      'unclassified': 1, 'connector': 2}\n",
    "default_speed_dict = {'motorway': 120, 'trunk': 100, 'primary': 80, 'secondary': 60, 'tertiary': 40,\n",
    "                      'residential': 30, 'service': 30, 'cycleway':5, 'footway':5, 'track':30,\n",
    "                      'unclassified': 30, 'connector':120}\n",
    "default_capacity_dict = {'motorway': 2300, 'trunk': 2200, 'primary': 1800, 'secondary': 1600, 'tertiary': 1200,\n",
    "                      'residential': 1000, 'service': 800, 'cycleway':800, 'footway':800, 'track':800,\n",
    "                      'unclassified': 800, 'connector':9999}"
   ]
  },
  {
   "cell_type": "markdown",
   "id": "aa28ed03",
   "metadata": {},
   "source": [
    "This step connects all the POI nodes to the nearest nodes using connector links"
   ]
  },
  {
   "cell_type": "code",
   "execution_count": 4,
   "id": "60eceb5e",
   "metadata": {},
   "outputs": [],
   "source": [
    "og.connectPOIWithNet(net)"
   ]
  },
  {
   "cell_type": "markdown",
   "id": "a2425a47",
   "metadata": {},
   "source": [
    "This step generates the activities based on the POI information"
   ]
  },
  {
   "cell_type": "code",
   "execution_count": 5,
   "id": "5f91ccf4",
   "metadata": {},
   "outputs": [
    {
     "name": "stdout",
     "output_type": "stream",
     "text": [
      "Generating Node Activity Information\n"
     ]
    }
   ],
   "source": [
    "og.generateNodeActivityInfo(net)"
   ]
  },
  {
   "cell_type": "markdown",
   "id": "9d8889d0",
   "metadata": {},
   "source": [
    "This step generates the node, link and POI (if enabled) files in CSV format"
   ]
  },
  {
   "cell_type": "code",
   "execution_count": 6,
   "id": "489eb6f3",
   "metadata": {},
   "outputs": [
    {
     "name": "stdout",
     "output_type": "stream",
     "text": [
      "Outputting Network Files\n"
     ]
    }
   ],
   "source": [
    "og.outputNetToCSV(net)"
   ]
  },
  {
   "cell_type": "markdown",
   "id": "89ab3fed",
   "metadata": {},
   "source": [
    "This step generates the demand files based on the POI file using GRID2DEMAND\n",
    "\n",
    "Note: Please manually delete the entire column 'name' from poi.csv as this is known to cause issues when using pandas or GRID2DEMAND"
   ]
  },
  {
   "cell_type": "code",
   "execution_count": 7,
   "id": "c7ca8ce5",
   "metadata": {},
   "outputs": [
    {
     "name": "stdout",
     "output_type": "stream",
     "text": [
      "  : Input directory is not specified. Use current working directory C:/Users/aditr as input directory. Please make sure node.csv and poi.csv are in C:/Users/aditr.\n",
      "  : Checking input directory...\n",
      "  : input dir C:/Users/aditr, traverse files by type: csv\n",
      "  : Input directory is valid.\n",
      "\n",
      "  : Loading package settings...\n",
      "  : Package settings loaded successfully.\n",
      "\n",
      "INFO Begin to run function: read_network …\n",
      "  : input dir C:/Users/aditr, traverse files by type: csv\n",
      "INFO Begin to run function: read_node …\n",
      "  : Parallel creating Nodes using Pool with 16 CPUs. Please wait...\n",
      "  : Reading node.csv with specified columns: ['node_id', 'x_coord', 'y_coord', 'activity_type', 'is_boundary', 'poi_id']                 \n",
      "    and chunksize 100000 for iterations...\n",
      "  : Successfully loaded node.csv: 3255 Nodes loaded.\n",
      "INFO Finished running function: read_node, total: 1s\n",
      "\n",
      "INFO Begin to run function: read_poi …\n",
      "  : Reading poi.csv with specified columns: ['poi_id', 'building', 'centroid', 'area', 'geometry']                 \n",
      "    and chunksize 100000 for iterations...\n",
      "  : Parallel creating POIs using Pool with 16 CPUs. Please wait...\n",
      "  : Successfully loaded poi.csv: 629 POIs loaded.\n",
      "INFO Finished running function: read_poi, total: 0s\n",
      "\n",
      "  : Successfully loaded node.csv and poi.csv: 3255 Nodes and 629 POIs.\n",
      "INFO Finished running function: read_network, total: 2s\n",
      "\n",
      "  : Generating zone dictionary...\n",
      "INFO Begin to run function: net2zone …\n",
      "INFO Begin to run function: get_lng_lat_min_max …\n",
      "INFO Finished running function: get_lng_lat_min_max, total: 0s\n",
      "\n",
      "  : Successfully generated zone dictionary: 100 Zones generated, plus 40 boundary gates (points))\n",
      "INFO Finished running function: net2zone, total: 0s\n",
      "\n",
      "  : Synchronizing geometry between zone and node/poi...\n",
      "INFO Begin to run function: sync_zone_and_node_geometry …\n",
      "  : Parallel synchronizing Nodes and Zones using Pool with 16 CPUs. Please wait...\n",
      "  : Successfully synchronized zone and node geometry\n",
      "INFO Finished running function: sync_zone_and_node_geometry, total: 1s\n",
      "\n",
      "INFO Begin to run function: sync_zone_and_poi_geometry …\n",
      "  : Parallel synchronizing POIs and Zones using Pool with 16 CPUs. Please wait...\n",
      "  : Successfully synchronized zone and poi geometry\n",
      "INFO Finished running function: sync_zone_and_poi_geometry, total: 2s\n",
      "\n",
      "INFO Begin to run function: calc_zone_od_matrix …\n",
      "  : Parallel calculating zone-to-zone distance matrix using Pool with 16 CPUs. Please wait...\n",
      "  : Successfully calculated zone-to-zone distance matrix\n",
      "INFO Finished running function: calc_zone_od_matrix, total: 2s\n",
      "\n",
      "No trip rate file is provided, use default trip rate.\n",
      "  : Successfully generated poi trip rate with default setting.\n",
      "  : Successfully generated production and attraction for each node based on poi trip rate.\n",
      "  : Successfully calculated zone production and attraction based on node production and attraction.\n",
      "  : Successfully calculated zone od friction attraction.\n",
      "  : Successfully run gravity model to generate demand.csv.\n",
      "  : Successfully generated agent-based demand data.\n",
      "  : Successfully saved demand.csv to C:/Users/aditr\n",
      "  : Successfully saved agent.csv to C:/Users/aditr\n",
      "  : Successfully saved zone.csv to C:/Users/aditr\n",
      "  : Successfully saved zone_od_dist_table.csv to C:/Users/aditr\n",
      "  : Successfully saved zone_od_dist_matrix.csv to C:/Users/aditr\n"
     ]
    }
   ],
   "source": [
    "if __name__ == \"__main__\":\n",
    "    \n",
    "    input_dir = ''\n",
    "    gd = GRID2DEMAND(input_dir)\n",
    "\n",
    "    # Step 1: Load node and poi data from input directory\n",
    "    node_dict, poi_dict = gd.load_network.values()\n",
    "\n",
    "    # Step 2: Generate zone dictionary from node dictionary by specifying number of x blocks and y blocks\n",
    "    zone_dict = gd.net2zone(node_dict, num_x_blocks=10, num_y_blocks=10)\n",
    " \n",
    "    # Step 3: synchronize geometry info between zone, node and poi\n",
    "    updated_dict = gd.sync_geometry_between_zone_and_node_poi(zone_dict, node_dict, poi_dict)\n",
    "    zone_dict_update, node_dict_update, poi_dict_update = updated_dict.values()\n",
    "\n",
    "    # Step 4: Calculate zone-to-zone od distance matrix\n",
    "    zone_od_distance_matrix = gd.calc_zone_od_distance_matrix(zone_dict_update)\n",
    "\n",
    "    # Step 5: Generate poi trip rate for each poi\n",
    "    poi_trip_rate = gd.gen_poi_trip_rate(poi_dict_update)\n",
    "\n",
    "    # Step 6: Generate node production attraction for each node based on poi_trip_rate\n",
    "    node_prod_attr = gd.gen_node_prod_attr(node_dict_update, poi_trip_rate)\n",
    "\n",
    "    # Step 6.1: Calculate zone production and attraction based on node production and attraction\n",
    "    zone_prod_attr = gd.calc_zone_prod_attr(node_prod_attr, zone_dict_update)\n",
    "\n",
    "    # Step 7: Run gravity model to generate agent-based demand\n",
    "    df_demand = gd.run_gravity_model(zone_prod_attr, zone_od_distance_matrix)\n",
    "\n",
    "    # Step 8: generate agent-based demand\n",
    "    df_agent = gd.gen_agent_based_demand(node_prod_attr, zone_prod_attr, df_demand=df_demand)\n",
    "\n",
    "    # Step 9: Output demand, agent, zone, zone_od_dist_table, zone_od_dist_matrix files\n",
    "    gd.save_demand\n",
    "    gd.save_agent\n",
    "    gd.save_zone\n",
    "    gd.save_zone_od_dist_table\n",
    "    gd.save_zone_od_dist_matrix"
   ]
  },
  {
   "cell_type": "markdown",
   "id": "8a773de1",
   "metadata": {},
   "source": [
    "Run DTALite executable"
   ]
  },
  {
   "cell_type": "code",
   "execution_count": 8,
   "id": "09069d8f",
   "metadata": {},
   "outputs": [
    {
     "name": "stdout",
     "output_type": "stream",
     "text": [
      "DTALite executed successfully.\n"
     ]
    }
   ],
   "source": [
    "command = 'DTALite'\n",
    "try:\n",
    "    subprocess.run(command, shell=True, check=True)\n",
    "    print(\"DTALite executed successfully.\")\n",
    "except subprocess.CalledProcessError as e:\n",
    "    print(f\"Error executing DTALite: {e}\")"
   ]
  },
  {
   "cell_type": "markdown",
   "id": "b4208d5c",
   "metadata": {},
   "source": [
    "Display the total volume from link performance for both bike and walk modes"
   ]
  },
  {
   "cell_type": "code",
   "execution_count": 9,
   "id": "7a55aff6",
   "metadata": {},
   "outputs": [
    {
     "data": {
      "text/plain": [
       "8329.518"
      ]
     },
     "execution_count": 9,
     "metadata": {},
     "output_type": "execute_result"
    }
   ],
   "source": [
    "df = pd.read_csv('link_performance.csv')\n",
    "x = df['vehicle_vol_walk'].sum()\n",
    "x"
   ]
  },
  {
   "cell_type": "code",
   "execution_count": 10,
   "id": "fe54be65",
   "metadata": {},
   "outputs": [
    {
     "data": {
      "text/plain": [
       "8755.812"
      ]
     },
     "execution_count": 10,
     "metadata": {},
     "output_type": "execute_result"
    }
   ],
   "source": [
    "y = df['vehicle_vol_bike'].sum()\n",
    "y"
   ]
  }
 ],
 "metadata": {
  "kernelspec": {
   "display_name": "Python 3 (ipykernel)",
   "language": "python",
   "name": "python3"
  },
  "language_info": {
   "codemirror_mode": {
    "name": "ipython",
    "version": 3
   },
   "file_extension": ".py",
   "mimetype": "text/x-python",
   "name": "python",
   "nbconvert_exporter": "python",
   "pygments_lexer": "ipython3",
   "version": "3.10.9"
  }
 },
 "nbformat": 4,
 "nbformat_minor": 5
}
