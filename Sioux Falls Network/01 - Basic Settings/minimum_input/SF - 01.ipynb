{
 "cells": [
  {
   "cell_type": "markdown",
   "id": "7c2691fe",
   "metadata": {},
   "source": [
    "Case 1: Basic Configuration\n",
    "\n",
    "This notebook will show the process of enabling the route output and simulation output within the YAML settings file.\n",
    "\n",
    "This process can be replicated by downloading this notebook along with the minimum input folder."
   ]
  },
  {
   "cell_type": "code",
   "execution_count": 1,
   "id": "691ccd18",
   "metadata": {},
   "outputs": [],
   "source": [
    "import pandas as pd\n",
    "import ruamel.yaml as yaml\n",
    "import subprocess"
   ]
  },
  {
   "cell_type": "markdown",
   "id": "dadb1b87",
   "metadata": {},
   "source": [
    "Route output enables results such as link performance"
   ]
  },
  {
   "cell_type": "code",
   "execution_count": 2,
   "id": "6e182f96",
   "metadata": {},
   "outputs": [
    {
     "name": "stdout",
     "output_type": "stream",
     "text": [
      "number_of_iterations: 100\n",
      "route_output: 1\n",
      "simulation_output: 0\n",
      "UE_convergence_percentage: 0.01\n",
      "\n"
     ]
    }
   ],
   "source": [
    "with open('settings.yml', 'r') as file:\n",
    "    config = yaml.safe_load(file)\n",
    "\n",
    "config['assignment']['route_output'] = 1\n",
    "config['assignment']['simulation_output'] = 0\n",
    "    \n",
    "print(yaml.dump(config['assignment'], Dumper=yaml.RoundTripDumper))"
   ]
  },
  {
   "cell_type": "markdown",
   "id": "8da5dc4e",
   "metadata": {},
   "source": [
    "Run DTALite executable"
   ]
  },
  {
   "cell_type": "code",
   "execution_count": 3,
   "id": "6c4970aa",
   "metadata": {},
   "outputs": [
    {
     "name": "stdout",
     "output_type": "stream",
     "text": [
      "DTALite executed successfully.\n"
     ]
    }
   ],
   "source": [
    "command = 'DTALite'\n",
    "try:\n",
    "    subprocess.run(command, shell=True, check=True)\n",
    "    print(\"DTALite executed successfully.\")\n",
    "except subprocess.CalledProcessError as e:\n",
    "    print(f\"Error executing DTALite: {e}\")"
   ]
  },
  {
   "cell_type": "markdown",
   "id": "0cbf52b9",
   "metadata": {},
   "source": [
    "Read the link performance file and display the sum of volume of all links"
   ]
  },
  {
   "cell_type": "code",
   "execution_count": 4,
   "id": "21dcc57d",
   "metadata": {},
   "outputs": [
    {
     "data": {
      "text/plain": [
       "879272.8130000001"
      ]
     },
     "execution_count": 4,
     "metadata": {},
     "output_type": "execute_result"
    }
   ],
   "source": [
    "df = pd.read_csv('link_performance.csv')\n",
    "x = df['vehicle_volume'].sum()\n",
    "x"
   ]
  },
  {
   "cell_type": "markdown",
   "id": "39d6f3b2",
   "metadata": {},
   "source": [
    "Simulation output enables the simulation of individual agents within the network"
   ]
  },
  {
   "cell_type": "code",
   "execution_count": 6,
   "id": "ecae9129",
   "metadata": {},
   "outputs": [
    {
     "name": "stdout",
     "output_type": "stream",
     "text": [
      "number_of_iterations: 100\n",
      "route_output: 0\n",
      "simulation_output: 1\n",
      "UE_convergence_percentage: 0.01\n",
      "\n"
     ]
    }
   ],
   "source": [
    "config['assignment']['route_output'] = 0\n",
    "config['assignment']['simulation_output'] = 1\n",
    "\n",
    "with open('settings.yml', 'w') as file:\n",
    "    yaml.dump(config, file, Dumper = yaml.RoundTripDumper)\n",
    "    \n",
    "print(yaml.dump(config['assignment'], Dumper=yaml.RoundTripDumper))"
   ]
  },
  {
   "cell_type": "markdown",
   "id": "ca02bf92",
   "metadata": {},
   "source": [
    "Run DTALite executable"
   ]
  },
  {
   "cell_type": "code",
   "execution_count": 7,
   "id": "3230b4c4",
   "metadata": {},
   "outputs": [
    {
     "name": "stdout",
     "output_type": "stream",
     "text": [
      "DTALite executed successfully.\n"
     ]
    }
   ],
   "source": [
    "try:\n",
    "    subprocess.run(command, shell=True, check=True)\n",
    "    print(\"DTALite executed successfully.\")\n",
    "except subprocess.CalledProcessError as e:\n",
    "    print(f\"Error executing DTALite: {e}\")"
   ]
  },
  {
   "cell_type": "markdown",
   "id": "31d27139",
   "metadata": {},
   "source": [
    "Read the agent file and display the average travel time for all agents"
   ]
  },
  {
   "cell_type": "code",
   "execution_count": 8,
   "id": "1076b215",
   "metadata": {},
   "outputs": [
    {
     "data": {
      "text/plain": [
       "138.69143690183026"
      ]
     },
     "execution_count": 8,
     "metadata": {},
     "output_type": "execute_result"
    }
   ],
   "source": [
    "df = pd.read_csv('agent_0_2025.csv', low_memory=False)\n",
    "y = df['travel_time'].mean()\n",
    "y"
   ]
  }
 ],
 "metadata": {
  "kernelspec": {
   "display_name": "Python 3 (ipykernel)",
   "language": "python",
   "name": "python3"
  },
  "language_info": {
   "codemirror_mode": {
    "name": "ipython",
    "version": 3
   },
   "file_extension": ".py",
   "mimetype": "text/x-python",
   "name": "python",
   "nbconvert_exporter": "python",
   "pygments_lexer": "ipython3",
   "version": "3.10.9"
  }
 },
 "nbformat": 4,
 "nbformat_minor": 5
}
