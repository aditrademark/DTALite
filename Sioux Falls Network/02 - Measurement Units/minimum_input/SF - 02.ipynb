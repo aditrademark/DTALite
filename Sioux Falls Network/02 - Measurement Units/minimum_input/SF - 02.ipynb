{
 "cells": [
  {
   "cell_type": "markdown",
   "id": "7c2691fe",
   "metadata": {},
   "source": [
    "Case 2: Unit Configuration\n",
    "\n",
    "This notebook will show the process of changing the measurement units within the YAML settings file and illustrates that the output remains consistent with zero variation regardless of units, given that the correct units are provided in the link file.\n",
    "\n",
    "This process can be replicated by downloading this notebook along with the minimum input folder."
   ]
  },
  {
   "cell_type": "code",
   "execution_count": 1,
   "id": "691ccd18",
   "metadata": {},
   "outputs": [],
   "source": [
    "import pandas as pd\n",
    "import ruamel.yaml as yaml\n",
    "import subprocess"
   ]
  },
  {
   "cell_type": "markdown",
   "id": "dadb1b87",
   "metadata": {},
   "source": [
    "Change to SI units, i.e., kilometers and kilometers per hour."
   ]
  },
  {
   "cell_type": "code",
   "execution_count": 2,
   "id": "6e182f96",
   "metadata": {},
   "outputs": [
    {
     "name": "stdout",
     "output_type": "stream",
     "text": [
      "length_unit: km\n",
      "speed_unit: kmph\n",
      "\n"
     ]
    }
   ],
   "source": [
    "with open('settings.yml', 'r') as file:\n",
    "    config = yaml.safe_load(file)\n",
    "\n",
    "config['unit']['length_unit'] = 'km'\n",
    "config['unit']['speed_unit'] = 'kmph'\n",
    "    \n",
    "print(yaml.dump(config['unit'], Dumper=yaml.RoundTripDumper))"
   ]
  },
  {
   "cell_type": "markdown",
   "id": "8da5dc4e",
   "metadata": {},
   "source": [
    "Run DTALite executable"
   ]
  },
  {
   "cell_type": "code",
   "execution_count": 3,
   "id": "6c4970aa",
   "metadata": {},
   "outputs": [
    {
     "name": "stdout",
     "output_type": "stream",
     "text": [
      "DTALite executed successfully.\n"
     ]
    }
   ],
   "source": [
    "command = 'DTALite'\n",
    "try:\n",
    "    subprocess.run(command, shell=True, check=True)\n",
    "    print(\"DTALite executed successfully.\")\n",
    "except subprocess.CalledProcessError as e:\n",
    "    print(f\"Error executing DTALite: {e}\")"
   ]
  },
  {
   "cell_type": "markdown",
   "id": "0cbf52b9",
   "metadata": {},
   "source": [
    "Read the link performance file and record the sum of volume of all links"
   ]
  },
  {
   "cell_type": "code",
   "execution_count": 4,
   "id": "21dcc57d",
   "metadata": {},
   "outputs": [
    {
     "data": {
      "text/plain": [
       "879272.8130000001"
      ]
     },
     "execution_count": 4,
     "metadata": {},
     "output_type": "execute_result"
    }
   ],
   "source": [
    "df = pd.read_csv('link_performance.csv')\n",
    "x = df['vehicle_volume'].sum()\n",
    "x"
   ]
  },
  {
   "cell_type": "markdown",
   "id": "a4f78ff7",
   "metadata": {},
   "source": [
    "Read and store the OD and system performance"
   ]
  },
  {
   "cell_type": "code",
   "execution_count": 5,
   "id": "13684795",
   "metadata": {},
   "outputs": [
    {
     "name": "stdout",
     "output_type": "stream",
     "text": [
      "360600.0\n",
      "20.6848\n"
     ]
    }
   ],
   "source": [
    "df2 = pd.read_csv('od_performance_summary.csv')\n",
    "df3 = pd.read_csv('system_performance_summary.csv')\n",
    "x2 = df2['volume_s0'].sum()\n",
    "x3 = df3['avg_travel_time_in_min'].sum()\n",
    "print(x2)\n",
    "print(x3)"
   ]
  },
  {
   "cell_type": "markdown",
   "id": "39d6f3b2",
   "metadata": {},
   "source": [
    "Change to Imperial units, i.e., miles and miles per hour, and display the same"
   ]
  },
  {
   "cell_type": "code",
   "execution_count": 6,
   "id": "ecae9129",
   "metadata": {},
   "outputs": [
    {
     "name": "stdout",
     "output_type": "stream",
     "text": [
      "length_unit: mile\n",
      "speed_unit: mph\n",
      "\n"
     ]
    }
   ],
   "source": [
    "config['unit']['length_unit'] = 'mile'\n",
    "config['unit']['speed_unit'] = 'mph'\n",
    "\n",
    "with open('settings.yml', 'w') as file:\n",
    "    yaml.dump(config, file, Dumper = yaml.RoundTripDumper)\n",
    "    \n",
    "print(yaml.dump(config['unit'], Dumper=yaml.RoundTripDumper))"
   ]
  },
  {
   "cell_type": "markdown",
   "id": "7197c12f",
   "metadata": {},
   "source": [
    "Now, the length and speed parameters in the link file will be converted from SI units to Imperial units"
   ]
  },
  {
   "cell_type": "code",
   "execution_count": 7,
   "id": "87422020",
   "metadata": {},
   "outputs": [],
   "source": [
    "df2 = pd.read_csv('link.csv')\n",
    "df2['length'] = df2['length']/1.6\n",
    "df2['free_speed'] = df2['free_speed']/1.6\n",
    "df2.to_csv('link.csv', index = False)"
   ]
  },
  {
   "cell_type": "markdown",
   "id": "ca02bf92",
   "metadata": {},
   "source": [
    "Run DTALite executable"
   ]
  },
  {
   "cell_type": "code",
   "execution_count": 8,
   "id": "3230b4c4",
   "metadata": {},
   "outputs": [
    {
     "name": "stdout",
     "output_type": "stream",
     "text": [
      "DTALite executed successfully.\n"
     ]
    }
   ],
   "source": [
    "try:\n",
    "    subprocess.run(command, shell=True, check=True)\n",
    "    print(\"DTALite executed successfully.\")\n",
    "except subprocess.CalledProcessError as e:\n",
    "    print(f\"Error executing DTALite: {e}\")"
   ]
  },
  {
   "cell_type": "markdown",
   "id": "218556c2",
   "metadata": {},
   "source": [
    "Convert the length and speed parameters in the link file back to SI units"
   ]
  },
  {
   "cell_type": "code",
   "execution_count": 9,
   "id": "95ae764d",
   "metadata": {},
   "outputs": [],
   "source": [
    "df2['length'] = df2['length']*1.6\n",
    "df2['free_speed'] = df2['free_speed']*1.6\n",
    "df2.to_csv('link.csv', index = False)"
   ]
  },
  {
   "cell_type": "markdown",
   "id": "31d27139",
   "metadata": {},
   "source": [
    "Read the link performance file and record the sum of volume of all links"
   ]
  },
  {
   "cell_type": "code",
   "execution_count": 10,
   "id": "1076b215",
   "metadata": {},
   "outputs": [
    {
     "data": {
      "text/plain": [
       "879272.8130000001"
      ]
     },
     "execution_count": 10,
     "metadata": {},
     "output_type": "execute_result"
    }
   ],
   "source": [
    "df = pd.read_csv('link_performance.csv')\n",
    "y = df['vehicle_volume'].sum()\n",
    "y"
   ]
  },
  {
   "cell_type": "markdown",
   "id": "7cd82325",
   "metadata": {},
   "source": [
    "Read and store the OD and system performance"
   ]
  },
  {
   "cell_type": "code",
   "execution_count": 11,
   "id": "3af4aeef",
   "metadata": {},
   "outputs": [
    {
     "name": "stdout",
     "output_type": "stream",
     "text": [
      "360600.0\n",
      "20.6848\n"
     ]
    }
   ],
   "source": [
    "df2 = pd.read_csv('od_performance_summary.csv')\n",
    "df3 = pd.read_csv('system_performance_summary.csv')\n",
    "y2 = df2['volume_s0'].sum()\n",
    "y3 = df3['avg_travel_time_in_min'].sum()\n",
    "print(y2)\n",
    "print(y3)"
   ]
  },
  {
   "cell_type": "markdown",
   "id": "8829233d",
   "metadata": {},
   "source": [
    "Now, compare the volume output side-by-side from both runs. It is proved that the output remains consistent with zero variation regardless of units, given that the correct units are provided in the link file."
   ]
  },
  {
   "cell_type": "code",
   "execution_count": 12,
   "id": "bbbd3a7f",
   "metadata": {},
   "outputs": [
    {
     "name": "stdout",
     "output_type": "stream",
     "text": [
      "The sum of volume of all links for a network in SI units is 879272.813000\n",
      "The sum of volume of all links for a network in Imperial units is 879272.813000\n",
      "The volume between all OD pairs for a network in SI units and Imperial units is 360600.000000 and 360600.000000 respectively,\n",
      "which are the same\n",
      "The average travel time (in minutes) for a network in SI units and Imperial units is 20.684800 and 20.684800 respectively,\n",
      "which are the same\n"
     ]
    }
   ],
   "source": [
    "print(f'The sum of volume of all links for a network in SI units is {x:2f}')\n",
    "print(f'The sum of volume of all links for a network in Imperial units is {y:2f}')\n",
    "print(f'The volume between all OD pairs for a network in SI units and Imperial units is {x2:2f} and {y2:2f} respectively,\\nwhich are the same')\n",
    "print(f'The average travel time (in minutes) for a network in SI units and Imperial units is {x3:2f} and {y3:2f} respectively,\\nwhich are the same')"
   ]
  }
 ],
 "metadata": {
  "kernelspec": {
   "display_name": "Python 3 (ipykernel)",
   "language": "python",
   "name": "python3"
  },
  "language_info": {
   "codemirror_mode": {
    "name": "ipython",
    "version": 3
   },
   "file_extension": ".py",
   "mimetype": "text/x-python",
   "name": "python",
   "nbconvert_exporter": "python",
   "pygments_lexer": "ipython3",
   "version": "3.10.9"
  }
 },
 "nbformat": 4,
 "nbformat_minor": 5
}
