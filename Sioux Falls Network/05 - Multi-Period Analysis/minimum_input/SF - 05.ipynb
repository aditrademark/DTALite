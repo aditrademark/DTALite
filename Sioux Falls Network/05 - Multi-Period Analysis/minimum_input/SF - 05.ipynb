{
 "cells": [
  {
   "cell_type": "markdown",
   "id": "7c2691fe",
   "metadata": {},
   "source": [
    "Case 5: Multi-Period Analysis\n",
    "\n",
    "This notebook will show the process of demand period configuration in the YAML settings file and illustrates the different output between different demand periods on different scale factors.\n",
    "\n",
    "This process can be replicated by downloading this notebook along with the minimum input folder and running each line in sequence."
   ]
  },
  {
   "cell_type": "code",
   "execution_count": 1,
   "id": "691ccd18",
   "metadata": {},
   "outputs": [],
   "source": [
    "import pandas as pd\n",
    "import ruamel.yaml as yaml\n",
    "import subprocess\n",
    "import matplotlib.pyplot as plt\n",
    "from scipy.stats import linregress"
   ]
  },
  {
   "cell_type": "markdown",
   "id": "dadb1b87",
   "metadata": {},
   "source": [
    "Display the current demand periods and demand files"
   ]
  },
  {
   "cell_type": "code",
   "execution_count": 2,
   "id": "3d85f41b",
   "metadata": {},
   "outputs": [
    {
     "name": "stdout",
     "output_type": "stream",
     "text": [
      "- demand_period: am\n",
      "  demand_period_id: 1\n",
      "  time_period: '0700_0800'\n",
      "\n",
      "- file_sequence_no: 1\n",
      "  scenario_index_vector: 0\n",
      "  file_name: demand.csv\n",
      "  demand_period: am\n",
      "  mode_type: auto\n",
      "  format_type: column\n",
      "  scale_factor: 1\n",
      "  departure_time_profile_no: 1\n",
      "\n"
     ]
    }
   ],
   "source": [
    "with open('settings.yml', 'r') as file:\n",
    "    config = yaml.safe_load(file)\n",
    "\n",
    "print(yaml.dump(config['demand_periods'], Dumper=yaml.RoundTripDumper))\n",
    "print(yaml.dump(config['demand_files'], Dumper=yaml.RoundTripDumper))"
   ]
  },
  {
   "cell_type": "markdown",
   "id": "9a61309d",
   "metadata": {},
   "source": [
    "Append a new demand period MD with a scale factor of 0.4 and the corresponding demand file, and display the same"
   ]
  },
  {
   "cell_type": "code",
   "execution_count": 3,
   "id": "6e182f96",
   "metadata": {},
   "outputs": [
    {
     "name": "stdout",
     "output_type": "stream",
     "text": [
      "- demand_period: am\n",
      "  demand_period_id: 1\n",
      "  time_period: '0700_0800'\n",
      "- demand_period: md\n",
      "  demand_period_id: 2\n",
      "  time_period: '1100_1200'\n",
      "\n",
      "- file_sequence_no: 1\n",
      "  scenario_index_vector: 0\n",
      "  file_name: demand.csv\n",
      "  demand_period: am\n",
      "  mode_type: auto\n",
      "  format_type: column\n",
      "  scale_factor: 1\n",
      "  departure_time_profile_no: 1\n",
      "- file_sequence_no: 2\n",
      "  scenario_index_vector: 0\n",
      "  file_name: demand.csv\n",
      "  demand_period: md\n",
      "  mode_type: auto\n",
      "  format_type: column\n",
      "  scale_factor: 0.4\n",
      "  departure_time_profile_no: 1\n",
      "\n"
     ]
    }
   ],
   "source": [
    "x = {'demand_period': 'md', 'demand_period_id': 2, 'time_period': '1100_1200'}\n",
    "y = {'file_sequence_no': 2,\n",
    "     'scenario_index_vector': 0,\n",
    "     'file_name': 'demand.csv',\n",
    "     'demand_period': 'md',\n",
    "     'mode_type': 'auto',\n",
    "     'format_type': 'column',\n",
    "     'scale_factor': 0.4,\n",
    "     'departure_time_profile_no': 1}\n",
    "if x not in config['demand_periods']:\n",
    "    config['demand_periods'].append(x)\n",
    "if y not in config['demand_files']:\n",
    "    config['demand_files'].append(y)\n",
    "            \n",
    "with open('settings.yml', 'w') as file:\n",
    "    yaml.dump(config, file, Dumper = yaml.RoundTripDumper)\n",
    "    \n",
    "print(yaml.dump(config['demand_periods'], Dumper=yaml.RoundTripDumper))\n",
    "print(yaml.dump(config['demand_files'], Dumper=yaml.RoundTripDumper))"
   ]
  },
  {
   "cell_type": "markdown",
   "id": "8da5dc4e",
   "metadata": {},
   "source": [
    "Run DTALite executable"
   ]
  },
  {
   "cell_type": "code",
   "execution_count": 4,
   "id": "6c4970aa",
   "metadata": {},
   "outputs": [
    {
     "name": "stdout",
     "output_type": "stream",
     "text": [
      "DTALite executed successfully.\n"
     ]
    }
   ],
   "source": [
    "command = 'DTALite'\n",
    "try:\n",
    "    subprocess.run(command, shell=True, check=True)\n",
    "    print(\"DTALite executed successfully.\")\n",
    "except subprocess.CalledProcessError as e:\n",
    "    print(f\"Error executing DTALite: {e}\")"
   ]
  },
  {
   "cell_type": "markdown",
   "id": "d7b01f07",
   "metadata": {},
   "source": [
    "Total volume for each time period"
   ]
  },
  {
   "cell_type": "code",
   "execution_count": 5,
   "id": "b283b679",
   "metadata": {},
   "outputs": [
    {
     "data": {
      "text/html": [
       "<div>\n",
       "<style scoped>\n",
       "    .dataframe tbody tr th:only-of-type {\n",
       "        vertical-align: middle;\n",
       "    }\n",
       "\n",
       "    .dataframe tbody tr th {\n",
       "        vertical-align: top;\n",
       "    }\n",
       "\n",
       "    .dataframe thead th {\n",
       "        text-align: right;\n",
       "    }\n",
       "</style>\n",
       "<table border=\"1\" class=\"dataframe\">\n",
       "  <thead>\n",
       "    <tr style=\"text-align: right;\">\n",
       "      <th></th>\n",
       "      <th>time_period</th>\n",
       "      <th>vehicle_volume</th>\n",
       "    </tr>\n",
       "  </thead>\n",
       "  <tbody>\n",
       "    <tr>\n",
       "      <th>0</th>\n",
       "      <td>0700_0800</td>\n",
       "      <td>879272.813</td>\n",
       "    </tr>\n",
       "    <tr>\n",
       "      <th>1</th>\n",
       "      <td>1100_1200</td>\n",
       "      <td>345018.828</td>\n",
       "    </tr>\n",
       "  </tbody>\n",
       "</table>\n",
       "</div>"
      ],
      "text/plain": [
       "  time_period  vehicle_volume\n",
       "0   0700_0800      879272.813\n",
       "1   1100_1200      345018.828"
      ]
     },
     "execution_count": 5,
     "metadata": {},
     "output_type": "execute_result"
    }
   ],
   "source": [
    "df = pd.read_csv('link_performance.csv')\n",
    "tot_vol = df.groupby('time_period')['vehicle_volume'].sum().reset_index()\n",
    "tot_vol"
   ]
  },
  {
   "cell_type": "code",
   "execution_count": 6,
   "id": "5d700495",
   "metadata": {},
   "outputs": [
    {
     "name": "stdout",
     "output_type": "stream",
     "text": [
      "The total volume for AM time period is 879272.813000, and the total volume for MD time period is 345018.828000\n",
      "The total volume for MD time period is 0.392391 as much as AM time period, which is roughly 0.4\n"
     ]
    }
   ],
   "source": [
    "am_vol = tot_vol.loc[0]['vehicle_volume']\n",
    "md_vol = tot_vol.loc[1]['vehicle_volume']\n",
    "scale = md_vol/am_vol\n",
    "print(f'The total volume for AM time period is {am_vol:1f}, and the total volume for MD time period is {md_vol:1f}')\n",
    "print(f'The total volume for MD time period is {scale:1f} as much as AM time period, which is roughly 0.4')"
   ]
  },
  {
   "cell_type": "markdown",
   "id": "0cbf52b9",
   "metadata": {},
   "source": [
    "Average travel time for each time period"
   ]
  },
  {
   "cell_type": "code",
   "execution_count": 7,
   "id": "1f83cad9",
   "metadata": {},
   "outputs": [
    {
     "data": {
      "text/html": [
       "<div>\n",
       "<style scoped>\n",
       "    .dataframe tbody tr th:only-of-type {\n",
       "        vertical-align: middle;\n",
       "    }\n",
       "\n",
       "    .dataframe tbody tr th {\n",
       "        vertical-align: top;\n",
       "    }\n",
       "\n",
       "    .dataframe thead th {\n",
       "        text-align: right;\n",
       "    }\n",
       "</style>\n",
       "<table border=\"1\" class=\"dataframe\">\n",
       "  <thead>\n",
       "    <tr style=\"text-align: right;\">\n",
       "      <th></th>\n",
       "      <th>time_period</th>\n",
       "      <th>travel_time</th>\n",
       "      <th>fftt</th>\n",
       "    </tr>\n",
       "  </thead>\n",
       "  <tbody>\n",
       "    <tr>\n",
       "      <th>0</th>\n",
       "      <td>0700_0800</td>\n",
       "      <td>8.788579</td>\n",
       "      <td>4.131579</td>\n",
       "    </tr>\n",
       "    <tr>\n",
       "      <th>1</th>\n",
       "      <td>1100_1200</td>\n",
       "      <td>4.405026</td>\n",
       "      <td>4.131579</td>\n",
       "    </tr>\n",
       "  </tbody>\n",
       "</table>\n",
       "</div>"
      ],
      "text/plain": [
       "  time_period  travel_time      fftt\n",
       "0   0700_0800     8.788579  4.131579\n",
       "1   1100_1200     4.405026  4.131579"
      ]
     },
     "execution_count": 7,
     "metadata": {},
     "output_type": "execute_result"
    }
   ],
   "source": [
    "avg_tt = df.groupby('time_period')['travel_time'].mean().reset_index()\n",
    "avg_fftt = df.groupby('time_period')['fftt'].mean().reset_index()\n",
    "avg_tt_fftt = pd.merge(avg_tt, avg_fftt, on='time_period', suffixes=('_tt', '_fftt'))\n",
    "avg_tt_fftt"
   ]
  },
  {
   "cell_type": "markdown",
   "id": "f9267d28",
   "metadata": {},
   "source": [
    "Average speed (kmph) for each time period"
   ]
  },
  {
   "cell_type": "code",
   "execution_count": 8,
   "id": "ec9e4248",
   "metadata": {},
   "outputs": [
    {
     "data": {
      "text/html": [
       "<div>\n",
       "<style scoped>\n",
       "    .dataframe tbody tr th:only-of-type {\n",
       "        vertical-align: middle;\n",
       "    }\n",
       "\n",
       "    .dataframe tbody tr th {\n",
       "        vertical-align: top;\n",
       "    }\n",
       "\n",
       "    .dataframe thead th {\n",
       "        text-align: right;\n",
       "    }\n",
       "</style>\n",
       "<table border=\"1\" class=\"dataframe\">\n",
       "  <thead>\n",
       "    <tr style=\"text-align: right;\">\n",
       "      <th></th>\n",
       "      <th>time_period</th>\n",
       "      <th>speed_kmph</th>\n",
       "      <th>free_speed_kmph</th>\n",
       "    </tr>\n",
       "  </thead>\n",
       "  <tbody>\n",
       "    <tr>\n",
       "      <th>0</th>\n",
       "      <td>0700_0800</td>\n",
       "      <td>34.356763</td>\n",
       "      <td>60.0</td>\n",
       "    </tr>\n",
       "    <tr>\n",
       "      <th>1</th>\n",
       "      <td>1100_1200</td>\n",
       "      <td>56.045816</td>\n",
       "      <td>60.0</td>\n",
       "    </tr>\n",
       "  </tbody>\n",
       "</table>\n",
       "</div>"
      ],
      "text/plain": [
       "  time_period  speed_kmph  free_speed_kmph\n",
       "0   0700_0800   34.356763             60.0\n",
       "1   1100_1200   56.045816             60.0"
      ]
     },
     "execution_count": 8,
     "metadata": {},
     "output_type": "execute_result"
    }
   ],
   "source": [
    "df2 = pd.read_csv('link.csv')\n",
    "avg_spd = df.groupby('time_period')['speed_kmph'].mean().reset_index()\n",
    "avg_ffspd = df2['free_speed'].mean()\n",
    "avg_spd['free_speed_kmph'] = avg_ffspd\n",
    "avg_spd"
   ]
  }
 ],
 "metadata": {
  "kernelspec": {
   "display_name": "Python 3 (ipykernel)",
   "language": "python",
   "name": "python3"
  },
  "language_info": {
   "codemirror_mode": {
    "name": "ipython",
    "version": 3
   },
   "file_extension": ".py",
   "mimetype": "text/x-python",
   "name": "python",
   "nbconvert_exporter": "python",
   "pygments_lexer": "ipython3",
   "version": "3.10.9"
  }
 },
 "nbformat": 4,
 "nbformat_minor": 5
}
